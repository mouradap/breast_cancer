{
 "cells": [
  {
   "cell_type": "code",
   "execution_count": 1,
   "metadata": {},
   "outputs": [],
   "source": [
    "import pandas as pd\n",
    "import seaborn as sb\n",
    "from scipy.stats import linregress\n",
    "import itertools\n",
    "from sklearn import decomposition\n",
    "import numpy as np\n",
    "\n",
    "import plotly.plotly as py\n",
    "from plotly.graph_objs import *"
   ]
  },
  {
   "cell_type": "code",
   "execution_count": 37,
   "metadata": {
    "scrolled": true
   },
   "outputs": [
    {
     "data": {
      "text/html": [
       "<div>\n",
       "<style scoped>\n",
       "    .dataframe tbody tr th:only-of-type {\n",
       "        vertical-align: middle;\n",
       "    }\n",
       "\n",
       "    .dataframe tbody tr th {\n",
       "        vertical-align: top;\n",
       "    }\n",
       "\n",
       "    .dataframe thead th {\n",
       "        text-align: right;\n",
       "    }\n",
       "</style>\n",
       "<table border=\"1\" class=\"dataframe\">\n",
       "  <thead>\n",
       "    <tr style=\"text-align: right;\">\n",
       "      <th></th>\n",
       "      <th>id</th>\n",
       "      <th>diagnosis</th>\n",
       "      <th>radius_mean</th>\n",
       "      <th>texture_mean</th>\n",
       "      <th>perimeter_mean</th>\n",
       "      <th>area_mean</th>\n",
       "      <th>smoothness_mean</th>\n",
       "      <th>compactness_mean</th>\n",
       "      <th>concavity_mean</th>\n",
       "      <th>concave points_mean</th>\n",
       "      <th>...</th>\n",
       "      <th>texture_worst</th>\n",
       "      <th>perimeter_worst</th>\n",
       "      <th>area_worst</th>\n",
       "      <th>smoothness_worst</th>\n",
       "      <th>compactness_worst</th>\n",
       "      <th>concavity_worst</th>\n",
       "      <th>concave points_worst</th>\n",
       "      <th>symmetry_worst</th>\n",
       "      <th>fractal_dimension_worst</th>\n",
       "      <th>Unnamed: 32</th>\n",
       "    </tr>\n",
       "  </thead>\n",
       "  <tbody>\n",
       "    <tr>\n",
       "      <th>0</th>\n",
       "      <td>842302</td>\n",
       "      <td>M</td>\n",
       "      <td>17.99</td>\n",
       "      <td>10.38</td>\n",
       "      <td>122.80</td>\n",
       "      <td>1001.0</td>\n",
       "      <td>0.11840</td>\n",
       "      <td>0.27760</td>\n",
       "      <td>0.3001</td>\n",
       "      <td>0.14710</td>\n",
       "      <td>...</td>\n",
       "      <td>17.33</td>\n",
       "      <td>184.60</td>\n",
       "      <td>2019.0</td>\n",
       "      <td>0.1622</td>\n",
       "      <td>0.6656</td>\n",
       "      <td>0.7119</td>\n",
       "      <td>0.2654</td>\n",
       "      <td>0.4601</td>\n",
       "      <td>0.11890</td>\n",
       "      <td>NaN</td>\n",
       "    </tr>\n",
       "    <tr>\n",
       "      <th>1</th>\n",
       "      <td>842517</td>\n",
       "      <td>M</td>\n",
       "      <td>20.57</td>\n",
       "      <td>17.77</td>\n",
       "      <td>132.90</td>\n",
       "      <td>1326.0</td>\n",
       "      <td>0.08474</td>\n",
       "      <td>0.07864</td>\n",
       "      <td>0.0869</td>\n",
       "      <td>0.07017</td>\n",
       "      <td>...</td>\n",
       "      <td>23.41</td>\n",
       "      <td>158.80</td>\n",
       "      <td>1956.0</td>\n",
       "      <td>0.1238</td>\n",
       "      <td>0.1866</td>\n",
       "      <td>0.2416</td>\n",
       "      <td>0.1860</td>\n",
       "      <td>0.2750</td>\n",
       "      <td>0.08902</td>\n",
       "      <td>NaN</td>\n",
       "    </tr>\n",
       "    <tr>\n",
       "      <th>2</th>\n",
       "      <td>84300903</td>\n",
       "      <td>M</td>\n",
       "      <td>19.69</td>\n",
       "      <td>21.25</td>\n",
       "      <td>130.00</td>\n",
       "      <td>1203.0</td>\n",
       "      <td>0.10960</td>\n",
       "      <td>0.15990</td>\n",
       "      <td>0.1974</td>\n",
       "      <td>0.12790</td>\n",
       "      <td>...</td>\n",
       "      <td>25.53</td>\n",
       "      <td>152.50</td>\n",
       "      <td>1709.0</td>\n",
       "      <td>0.1444</td>\n",
       "      <td>0.4245</td>\n",
       "      <td>0.4504</td>\n",
       "      <td>0.2430</td>\n",
       "      <td>0.3613</td>\n",
       "      <td>0.08758</td>\n",
       "      <td>NaN</td>\n",
       "    </tr>\n",
       "    <tr>\n",
       "      <th>3</th>\n",
       "      <td>84348301</td>\n",
       "      <td>M</td>\n",
       "      <td>11.42</td>\n",
       "      <td>20.38</td>\n",
       "      <td>77.58</td>\n",
       "      <td>386.1</td>\n",
       "      <td>0.14250</td>\n",
       "      <td>0.28390</td>\n",
       "      <td>0.2414</td>\n",
       "      <td>0.10520</td>\n",
       "      <td>...</td>\n",
       "      <td>26.50</td>\n",
       "      <td>98.87</td>\n",
       "      <td>567.7</td>\n",
       "      <td>0.2098</td>\n",
       "      <td>0.8663</td>\n",
       "      <td>0.6869</td>\n",
       "      <td>0.2575</td>\n",
       "      <td>0.6638</td>\n",
       "      <td>0.17300</td>\n",
       "      <td>NaN</td>\n",
       "    </tr>\n",
       "    <tr>\n",
       "      <th>4</th>\n",
       "      <td>84358402</td>\n",
       "      <td>M</td>\n",
       "      <td>20.29</td>\n",
       "      <td>14.34</td>\n",
       "      <td>135.10</td>\n",
       "      <td>1297.0</td>\n",
       "      <td>0.10030</td>\n",
       "      <td>0.13280</td>\n",
       "      <td>0.1980</td>\n",
       "      <td>0.10430</td>\n",
       "      <td>...</td>\n",
       "      <td>16.67</td>\n",
       "      <td>152.20</td>\n",
       "      <td>1575.0</td>\n",
       "      <td>0.1374</td>\n",
       "      <td>0.2050</td>\n",
       "      <td>0.4000</td>\n",
       "      <td>0.1625</td>\n",
       "      <td>0.2364</td>\n",
       "      <td>0.07678</td>\n",
       "      <td>NaN</td>\n",
       "    </tr>\n",
       "  </tbody>\n",
       "</table>\n",
       "<p>5 rows × 33 columns</p>\n",
       "</div>"
      ],
      "text/plain": [
       "         id diagnosis  radius_mean  texture_mean  perimeter_mean  area_mean  \\\n",
       "0    842302         M        17.99         10.38          122.80     1001.0   \n",
       "1    842517         M        20.57         17.77          132.90     1326.0   \n",
       "2  84300903         M        19.69         21.25          130.00     1203.0   \n",
       "3  84348301         M        11.42         20.38           77.58      386.1   \n",
       "4  84358402         M        20.29         14.34          135.10     1297.0   \n",
       "\n",
       "   smoothness_mean  compactness_mean  concavity_mean  concave points_mean  \\\n",
       "0          0.11840           0.27760          0.3001              0.14710   \n",
       "1          0.08474           0.07864          0.0869              0.07017   \n",
       "2          0.10960           0.15990          0.1974              0.12790   \n",
       "3          0.14250           0.28390          0.2414              0.10520   \n",
       "4          0.10030           0.13280          0.1980              0.10430   \n",
       "\n",
       "   ...  texture_worst  perimeter_worst  area_worst  smoothness_worst  \\\n",
       "0  ...          17.33           184.60      2019.0            0.1622   \n",
       "1  ...          23.41           158.80      1956.0            0.1238   \n",
       "2  ...          25.53           152.50      1709.0            0.1444   \n",
       "3  ...          26.50            98.87       567.7            0.2098   \n",
       "4  ...          16.67           152.20      1575.0            0.1374   \n",
       "\n",
       "   compactness_worst  concavity_worst  concave points_worst  symmetry_worst  \\\n",
       "0             0.6656           0.7119                0.2654          0.4601   \n",
       "1             0.1866           0.2416                0.1860          0.2750   \n",
       "2             0.4245           0.4504                0.2430          0.3613   \n",
       "3             0.8663           0.6869                0.2575          0.6638   \n",
       "4             0.2050           0.4000                0.1625          0.2364   \n",
       "\n",
       "   fractal_dimension_worst  Unnamed: 32  \n",
       "0                  0.11890          NaN  \n",
       "1                  0.08902          NaN  \n",
       "2                  0.08758          NaN  \n",
       "3                  0.17300          NaN  \n",
       "4                  0.07678          NaN  \n",
       "\n",
       "[5 rows x 33 columns]"
      ]
     },
     "execution_count": 37,
     "metadata": {},
     "output_type": "execute_result"
    }
   ],
   "source": [
    "df = pd.read_csv(\"/home/iaradsouza/python_data_science/project/data.csv\")\n",
    "df.head()"
   ]
  },
  {
   "cell_type": "code",
   "execution_count": 38,
   "metadata": {},
   "outputs": [],
   "source": [
    "df = df.iloc[:,1:32]\n"
   ]
  },
  {
   "cell_type": "code",
   "execution_count": 40,
   "metadata": {},
   "outputs": [
    {
     "data": {
      "text/plain": [
       "diagnosis                   object\n",
       "radius_mean                float64\n",
       "texture_mean               float64\n",
       "perimeter_mean             float64\n",
       "area_mean                  float64\n",
       "smoothness_mean            float64\n",
       "compactness_mean           float64\n",
       "concavity_mean             float64\n",
       "concave points_mean        float64\n",
       "symmetry_mean              float64\n",
       "fractal_dimension_mean     float64\n",
       "radius_se                  float64\n",
       "texture_se                 float64\n",
       "perimeter_se               float64\n",
       "area_se                    float64\n",
       "smoothness_se              float64\n",
       "compactness_se             float64\n",
       "concavity_se               float64\n",
       "concave points_se          float64\n",
       "symmetry_se                float64\n",
       "fractal_dimension_se       float64\n",
       "radius_worst               float64\n",
       "texture_worst              float64\n",
       "perimeter_worst            float64\n",
       "area_worst                 float64\n",
       "smoothness_worst           float64\n",
       "compactness_worst          float64\n",
       "concavity_worst            float64\n",
       "concave points_worst       float64\n",
       "symmetry_worst             float64\n",
       "fractal_dimension_worst    float64\n",
       "dtype: object"
      ]
     },
     "execution_count": 40,
     "metadata": {},
     "output_type": "execute_result"
    }
   ],
   "source": [
    "df.head()\n",
    "cols = list(df.columns[1:])\n",
    "df.dtypes"
   ]
  },
  {
   "cell_type": "code",
   "execution_count": 5,
   "metadata": {
    "scrolled": true
   },
   "outputs": [
    {
     "data": {
      "image/png": "[encoded data removed]",
      "text/plain": [
       "<matplotlib.figure.Figure at 0x7f53c0715908>"
      ]
     },
     "metadata": {},
     "output_type": "display_data"
    }
   ],
   "source": [
    "corr = df.corr()\n",
    "ax = sb.heatmap(\n",
    "    corr, \n",
    "    vmin=-1, vmax=1, center=0,\n",
    "    cmap=sb.diverging_palette(20, 220, n=200),\n",
    "    square=True\n",
    ")\n",
    "ax.set_xticklabels(\n",
    "    ax.get_xticklabels(),\n",
    "    rotation=45,\n",
    "    horizontalalignment='right'\n",
    ");"
   ]
  },
  {
   "cell_type": "code",
   "execution_count": null,
   "metadata": {
    "scrolled": true
   },
   "outputs": [],
   "source": [
    "corr"
   ]
  },
  {
   "cell_type": "code",
   "execution_count": 106,
   "metadata": {},
   "outputs": [
    {
     "data": {
      "text/html": [
       "<iframe id=\"igraph\" scrolling=\"no\" style=\"border:none;\" seamless=\"seamless\" src=\"https://plot.ly/~iaradsouza1/6.embed\" height=\"700px\" width=\"700px\"></iframe>"
      ],
      "text/plain": [
       "<plotly.tools.PlotlyDisplay object>"
      ]
     },
     "execution_count": 106,
     "metadata": {},
     "output_type": "execute_result"
    }
   ],
   "source": [
    "from plotly import graph_objs as go\n",
    "\n",
    "# Create the data object for plotly\n",
    "data = [\n",
    "    go.Heatmap(\n",
    "        z= corr.values, # subset with ix method (similar to loc and iloc)\n",
    "        x=corr.columns.values, # set x values\n",
    "        y=corr.columns.values, # set y values\n",
    "        colorscale='RdBu', # predefined pallete\n",
    "        text = True , # sets text elements associated with each (x,y) pair.\n",
    "        opacity = 1.0, # alpha\n",
    "        zmin = -1,\n",
    "        zmax= 1\n",
    "        \n",
    "    )\n",
    "]\n",
    "\n",
    "\n",
    "layout = go.Layout( # set layout for plotly\n",
    "    title='Pearson correlation of all variables', # title\n",
    "    xaxis = dict(ticks=''), # Set x axis layout\n",
    "    yaxis = dict(ticks=''), # Set y axis layout\n",
    "    width = 700, height = 700, # Figure size\n",
    "    \n",
    ")\n",
    "\n",
    "\n",
    "fig = go.Figure(data=data, layout=layout) # Creates the figure object for plotly \n",
    "py.iplot(fig, filename='labelled-heatmap')"
   ]
  },
  {
   "cell_type": "code",
   "execution_count": 28,
   "metadata": {
    "scrolled": false
   },
   "outputs": [
    {
     "name": "stdout",
     "output_type": "stream",
     "text": [
      "Number of significant correlations (p-value <= 0.05 ):  389\n"
     ]
    }
   ],
   "source": [
    "# Generate all possible combinations between variables\n",
    "comb = [ list(i) for i in list(itertools.combinations(cols, 2)) ]\n",
    "\n",
    "# Define regression function to this dataset\n",
    "def calculate_regression(df, comb, p_value=0.05):\n",
    "    corr_list = [ list(linregress(df[ comb[i][0] ], df[ comb[i][1] ])) for i in range(len(comb)) ]\n",
    "    corr_df = pd.DataFrame(corr_list, columns= ['slope', 'intercept', 'r_value', 'p_value', 'std_err'])\n",
    "    print(\"Number of significant correlations (p-value <=\", p_value, \"): \", len(corr_df[ corr_df.p_value <= p_value ]))\n",
    "    corr_df['comb'] = comb\n",
    "    return(corr_df)\n",
    "\n",
    "# Run regression analysis\n",
    "corr_df = calculate_regression(df, comb)\n",
    "\n"
   ]
  },
  {
   "cell_type": "code",
   "execution_count": 65,
   "metadata": {
    "scrolled": false
   },
   "outputs": [
    {
     "name": "stdout",
     "output_type": "stream",
     "text": [
      "Number of significant correlations (p-value <= 0.05 ):  302\n",
      "Number of significant correlations (p-value <= 0.05 ):  321\n"
     ]
    }
   ],
   "source": [
    "df_m = df[ df.diagnosis == 'M' ]\n",
    "df_b = df[ df.diagnosis == 'B' ]\n",
    "\n",
    "comb = [ list(i) for i in list(itertools.combinations(cols, 2)) ]\n",
    "\n",
    "corr_df_m = calculate_regression(df_m, comb)\n",
    "corr_df_b = calculate_regression(df_b, comb)\n",
    "\n",
    "corr_df_m = corr_df_m.sort_values('p_value', ascending=True)\n",
    "corr_df_b = corr_df_b.sort_values('p_value', ascending=True)\n",
    "\n",
    "top_10_m = corr_df_m.loc[:10,:]\n",
    "top_10_b = corr_df_b.loc[:10,:]\n"
   ]
  },
  {
   "cell_type": "code",
   "execution_count": 67,
   "metadata": {},
   "outputs": [],
   "source": [
    "subs = '_mean'\n",
    "\n",
    "cols_mean = [ i for i in cols if subs in i ]"
   ]
  },
  {
   "cell_type": "code",
   "execution_count": 76,
   "metadata": {
    "scrolled": true
   },
   "outputs": [
    {
     "name": "stdout",
     "output_type": "stream",
     "text": [
      "Number of significant correlations (p-value <= 0.05 ):  31\n",
      "Number of significant correlations (p-value <= 0.05 ):  34\n"
     ]
    }
   ],
   "source": [
    "comb_mean = [ list(i) for i in list(itertools.combinations(cols_mean, 2)) ]\n",
    "\n",
    "df_m_mean = df_m[ cols_mean ]\n",
    "df_b_mean = df_b[ cols_mean ]\n",
    "\n",
    "corr_m_mean = calculate_regression(df_m_mean, comb_mean).sort_values('p_value', ascending=True)\n",
    "corr_b_mean = calculate_regression(df_b_mean, comb_mean).sort_values('p_value', ascending=True)\n"
   ]
  },
  {
   "cell_type": "code",
   "execution_count": 78,
   "metadata": {
    "scrolled": true
   },
   "outputs": [
    {
     "data": {
      "text/html": [
       "<div>\n",
       "<style scoped>\n",
       "    .dataframe tbody tr th:only-of-type {\n",
       "        vertical-align: middle;\n",
       "    }\n",
       "\n",
       "    .dataframe tbody tr th {\n",
       "        vertical-align: top;\n",
       "    }\n",
       "\n",
       "    .dataframe thead th {\n",
       "        text-align: right;\n",
       "    }\n",
       "</style>\n",
       "<table border=\"1\" class=\"dataframe\">\n",
       "  <thead>\n",
       "    <tr style=\"text-align: right;\">\n",
       "      <th></th>\n",
       "      <th>slope</th>\n",
       "      <th>intercept</th>\n",
       "      <th>r_value</th>\n",
       "      <th>p_value</th>\n",
       "      <th>std_err</th>\n",
       "      <th>comb</th>\n",
       "    </tr>\n",
       "  </thead>\n",
       "  <tbody>\n",
       "    <tr>\n",
       "      <th>1</th>\n",
       "      <td>6.788929</td>\n",
       "      <td>-3.188534</td>\n",
       "      <td>0.995281</td>\n",
       "      <td>9.825960e-215</td>\n",
       "      <td>0.045672</td>\n",
       "      <td>[radius_mean, perimeter_mean]</td>\n",
       "    </tr>\n",
       "    <tr>\n",
       "      <th>2</th>\n",
       "      <td>113.698736</td>\n",
       "      <td>-1007.125296</td>\n",
       "      <td>0.990078</td>\n",
       "      <td>5.845489e-181</td>\n",
       "      <td>1.113528</td>\n",
       "      <td>[radius_mean, area_mean]</td>\n",
       "    </tr>\n",
       "    <tr>\n",
       "      <th>17</th>\n",
       "      <td>16.620568</td>\n",
       "      <td>-939.061689</td>\n",
       "      <td>0.987223</td>\n",
       "      <td>1.728075e-169</td>\n",
       "      <td>0.185124</td>\n",
       "      <td>[perimeter_mean, area_mean]</td>\n",
       "    </tr>\n",
       "    <tr>\n",
       "      <th>39</th>\n",
       "      <td>0.415642</td>\n",
       "      <td>0.021165</td>\n",
       "      <td>0.907119</td>\n",
       "      <td>7.150252e-81</td>\n",
       "      <td>0.013308</td>\n",
       "      <td>[concavity_mean, concave points_mean]</td>\n",
       "    </tr>\n",
       "    <tr>\n",
       "      <th>35</th>\n",
       "      <td>1.177954</td>\n",
       "      <td>-0.010250</td>\n",
       "      <td>0.847712</td>\n",
       "      <td>9.721692e-60</td>\n",
       "      <td>0.050865</td>\n",
       "      <td>[compactness_mean, concavity_mean]</td>\n",
       "    </tr>\n",
       "    <tr>\n",
       "      <th>38</th>\n",
       "      <td>0.106096</td>\n",
       "      <td>0.047276</td>\n",
       "      <td>0.756318</td>\n",
       "      <td>1.444998e-40</td>\n",
       "      <td>0.006333</td>\n",
       "      <td>[compactness_mean, fractal_dimension_mean]</td>\n",
       "    </tr>\n",
       "    <tr>\n",
       "      <th>34</th>\n",
       "      <td>0.451513</td>\n",
       "      <td>0.016220</td>\n",
       "      <td>0.751690</td>\n",
       "      <td>7.945949e-40</td>\n",
       "      <td>0.027337</td>\n",
       "      <td>[smoothness_mean, fractal_dimension_mean]</td>\n",
       "    </tr>\n",
       "    <tr>\n",
       "      <th>21</th>\n",
       "      <td>0.001148</td>\n",
       "      <td>-0.044498</td>\n",
       "      <td>0.730158</td>\n",
       "      <td>1.382240e-36</td>\n",
       "      <td>0.000074</td>\n",
       "      <td>[perimeter_mean, concave points_mean]</td>\n",
       "    </tr>\n",
       "    <tr>\n",
       "      <th>36</th>\n",
       "      <td>0.463104</td>\n",
       "      <td>0.020753</td>\n",
       "      <td>0.727349</td>\n",
       "      <td>3.470883e-36</td>\n",
       "      <td>0.030152</td>\n",
       "      <td>[compactness_mean, concave points_mean]</td>\n",
       "    </tr>\n",
       "    <tr>\n",
       "      <th>37</th>\n",
       "      <td>0.357362</td>\n",
       "      <td>0.141024</td>\n",
       "      <td>0.698061</td>\n",
       "      <td>2.697191e-32</td>\n",
       "      <td>0.025295</td>\n",
       "      <td>[compactness_mean, symmetry_mean]</td>\n",
       "    </tr>\n",
       "  </tbody>\n",
       "</table>\n",
       "</div>"
      ],
      "text/plain": [
       "         slope    intercept   r_value        p_value   std_err  \\\n",
       "1     6.788929    -3.188534  0.995281  9.825960e-215  0.045672   \n",
       "2   113.698736 -1007.125296  0.990078  5.845489e-181  1.113528   \n",
       "17   16.620568  -939.061689  0.987223  1.728075e-169  0.185124   \n",
       "39    0.415642     0.021165  0.907119   7.150252e-81  0.013308   \n",
       "35    1.177954    -0.010250  0.847712   9.721692e-60  0.050865   \n",
       "38    0.106096     0.047276  0.756318   1.444998e-40  0.006333   \n",
       "34    0.451513     0.016220  0.751690   7.945949e-40  0.027337   \n",
       "21    0.001148    -0.044498  0.730158   1.382240e-36  0.000074   \n",
       "36    0.463104     0.020753  0.727349   3.470883e-36  0.030152   \n",
       "37    0.357362     0.141024  0.698061   2.697191e-32  0.025295   \n",
       "\n",
       "                                          comb  \n",
       "1                [radius_mean, perimeter_mean]  \n",
       "2                     [radius_mean, area_mean]  \n",
       "17                 [perimeter_mean, area_mean]  \n",
       "39       [concavity_mean, concave points_mean]  \n",
       "35          [compactness_mean, concavity_mean]  \n",
       "38  [compactness_mean, fractal_dimension_mean]  \n",
       "34   [smoothness_mean, fractal_dimension_mean]  \n",
       "21       [perimeter_mean, concave points_mean]  \n",
       "36     [compactness_mean, concave points_mean]  \n",
       "37           [compactness_mean, symmetry_mean]  "
      ]
     },
     "execution_count": 78,
     "metadata": {},
     "output_type": "execute_result"
    }
   ],
   "source": [
    "corr_m_mean.head(10)"
   ]
  },
  {
   "cell_type": "code",
   "execution_count": 79,
   "metadata": {},
   "outputs": [
    {
     "data": {
      "text/html": [
       "<div>\n",
       "<style scoped>\n",
       "    .dataframe tbody tr th:only-of-type {\n",
       "        vertical-align: middle;\n",
       "    }\n",
       "\n",
       "    .dataframe tbody tr th {\n",
       "        vertical-align: top;\n",
       "    }\n",
       "\n",
       "    .dataframe thead th {\n",
       "        text-align: right;\n",
       "    }\n",
       "</style>\n",
       "<table border=\"1\" class=\"dataframe\">\n",
       "  <thead>\n",
       "    <tr style=\"text-align: right;\">\n",
       "      <th></th>\n",
       "      <th>slope</th>\n",
       "      <th>intercept</th>\n",
       "      <th>r_value</th>\n",
       "      <th>p_value</th>\n",
       "      <th>std_err</th>\n",
       "      <th>comb</th>\n",
       "    </tr>\n",
       "  </thead>\n",
       "  <tbody>\n",
       "    <tr>\n",
       "      <th>1</th>\n",
       "      <td>6.610058</td>\n",
       "      <td>-2.213821</td>\n",
       "      <td>0.996769</td>\n",
       "      <td>0.000000e+00</td>\n",
       "      <td>0.028271</td>\n",
       "      <td>[radius_mean, perimeter_mean]</td>\n",
       "    </tr>\n",
       "    <tr>\n",
       "      <th>2</th>\n",
       "      <td>75.000798</td>\n",
       "      <td>-448.208787</td>\n",
       "      <td>0.994435</td>\n",
       "      <td>0.000000e+00</td>\n",
       "      <td>0.421718</td>\n",
       "      <td>[radius_mean, area_mean]</td>\n",
       "    </tr>\n",
       "    <tr>\n",
       "      <th>17</th>\n",
       "      <td>11.266795</td>\n",
       "      <td>-416.869431</td>\n",
       "      <td>0.990653</td>\n",
       "      <td>3.117048e-309</td>\n",
       "      <td>0.082336</td>\n",
       "      <td>[perimeter_mean, area_mean]</td>\n",
       "    </tr>\n",
       "    <tr>\n",
       "      <th>35</th>\n",
       "      <td>0.971811</td>\n",
       "      <td>-0.031769</td>\n",
       "      <td>0.754994</td>\n",
       "      <td>4.846566e-67</td>\n",
       "      <td>0.044797</td>\n",
       "      <td>[compactness_mean, concavity_mean]</td>\n",
       "    </tr>\n",
       "    <tr>\n",
       "      <th>36</th>\n",
       "      <td>0.353585</td>\n",
       "      <td>-0.002599</td>\n",
       "      <td>0.750119</td>\n",
       "      <td>9.830075e-66</td>\n",
       "      <td>0.016544</td>\n",
       "      <td>[compactness_mean, concave points_mean]</td>\n",
       "    </tr>\n",
       "    <tr>\n",
       "      <th>39</th>\n",
       "      <td>0.260674</td>\n",
       "      <td>0.013711</td>\n",
       "      <td>0.711823</td>\n",
       "      <td>2.002225e-56</td>\n",
       "      <td>0.013651</td>\n",
       "      <td>[concavity_mean, concave points_mean]</td>\n",
       "    </tr>\n",
       "    <tr>\n",
       "      <th>38</th>\n",
       "      <td>0.138385</td>\n",
       "      <td>0.051785</td>\n",
       "      <td>0.692198</td>\n",
       "      <td>3.186225e-52</td>\n",
       "      <td>0.007658</td>\n",
       "      <td>[compactness_mean, fractal_dimension_mean]</td>\n",
       "    </tr>\n",
       "    <tr>\n",
       "      <th>30</th>\n",
       "      <td>1.408958</td>\n",
       "      <td>-0.050213</td>\n",
       "      <td>0.561333</td>\n",
       "      <td>5.001641e-31</td>\n",
       "      <td>0.110250</td>\n",
       "      <td>[smoothness_mean, compactness_mean]</td>\n",
       "    </tr>\n",
       "    <tr>\n",
       "      <th>34</th>\n",
       "      <td>0.281181</td>\n",
       "      <td>0.036864</td>\n",
       "      <td>0.560336</td>\n",
       "      <td>6.693101e-31</td>\n",
       "      <td>0.022059</td>\n",
       "      <td>[smoothness_mean, fractal_dimension_mean]</td>\n",
       "    </tr>\n",
       "    <tr>\n",
       "      <th>8</th>\n",
       "      <td>-0.002022</td>\n",
       "      <td>0.087424</td>\n",
       "      <td>-0.533492</td>\n",
       "      <td>1.194972e-27</td>\n",
       "      <td>0.000170</td>\n",
       "      <td>[radius_mean, fractal_dimension_mean]</td>\n",
       "    </tr>\n",
       "  </tbody>\n",
       "</table>\n",
       "</div>"
      ],
      "text/plain": [
       "        slope   intercept   r_value        p_value   std_err  \\\n",
       "1    6.610058   -2.213821  0.996769   0.000000e+00  0.028271   \n",
       "2   75.000798 -448.208787  0.994435   0.000000e+00  0.421718   \n",
       "17  11.266795 -416.869431  0.990653  3.117048e-309  0.082336   \n",
       "35   0.971811   -0.031769  0.754994   4.846566e-67  0.044797   \n",
       "36   0.353585   -0.002599  0.750119   9.830075e-66  0.016544   \n",
       "39   0.260674    0.013711  0.711823   2.002225e-56  0.013651   \n",
       "38   0.138385    0.051785  0.692198   3.186225e-52  0.007658   \n",
       "30   1.408958   -0.050213  0.561333   5.001641e-31  0.110250   \n",
       "34   0.281181    0.036864  0.560336   6.693101e-31  0.022059   \n",
       "8   -0.002022    0.087424 -0.533492   1.194972e-27  0.000170   \n",
       "\n",
       "                                          comb  \n",
       "1                [radius_mean, perimeter_mean]  \n",
       "2                     [radius_mean, area_mean]  \n",
       "17                 [perimeter_mean, area_mean]  \n",
       "35          [compactness_mean, concavity_mean]  \n",
       "36     [compactness_mean, concave points_mean]  \n",
       "39       [concavity_mean, concave points_mean]  \n",
       "38  [compactness_mean, fractal_dimension_mean]  \n",
       "30         [smoothness_mean, compactness_mean]  \n",
       "34   [smoothness_mean, fractal_dimension_mean]  \n",
       "8        [radius_mean, fractal_dimension_mean]  "
      ]
     },
     "execution_count": 79,
     "metadata": {},
     "output_type": "execute_result"
    }
   ],
   "source": [
    "corr_b_mean.head(10)"
   ]
  },
  {
   "cell_type": "markdown",
   "metadata": {},
   "source": [
    "# PCA\n",
    "\n",
    "https://www.datacamp.com/community/tutorials/principal-component-analysis-in-python\n",
    "https://towardsdatascience.com/pca-using-python-scikit-learn-e653f8989e60\n",
    "https://jakevdp.github.io/PythonDataScienceHandbook/05.09-principal-component-analysis.html"
   ]
  },
  {
   "cell_type": "code",
   "execution_count": 41,
   "metadata": {
    "scrolled": false
   },
   "outputs": [
    {
     "data": {
      "text/plain": [
       "array([9.82044672e-01, 1.61764899e-02, 1.55751075e-03, 1.20931964e-04,\n",
       "       8.82724536e-05, 6.64883951e-06, 4.01713682e-06, 8.22017197e-07,\n",
       "       3.44135279e-07, 1.86018721e-07, 6.99473205e-08, 1.65908880e-08,\n",
       "       6.99641650e-09, 4.78318306e-09, 2.93549214e-09, 1.41684927e-09,\n",
       "       8.29577731e-10, 5.20405883e-10, 4.08463983e-10, 3.63313378e-10,\n",
       "       1.72849737e-10, 1.27487508e-10, 7.72682973e-11, 6.28357718e-11,\n",
       "       3.57302295e-11, 2.76396041e-11, 8.14452259e-12, 6.30211541e-12,\n",
       "       4.43666945e-12, 1.55344680e-12])"
      ]
     },
     "execution_count": 41,
     "metadata": {},
     "output_type": "execute_result"
    }
   ],
   "source": [
    "pca = decomposition.PCA()\n",
    "pca.fit(df.iloc[:,1:].values.tolist())\n",
    "pca.explained_variance_ratio_"
   ]
  },
  {
   "cell_type": "code",
   "execution_count": 87,
   "metadata": {},
   "outputs": [
    {
     "data": {
      "text/plain": [
       "(1.2487570048507913e-18, 1.0)"
      ]
     },
     "execution_count": 87,
     "metadata": {},
     "output_type": "execute_result"
    }
   ],
   "source": [
    "from sklearn.preprocessing import StandardScaler\n",
    "from sklearn.decomposition import PCA\n",
    "x = df.loc[:, cols].values\n",
    "x = StandardScaler().fit_transform(x) # normalizing the features\n",
    "x.shape\n",
    "np.mean(x),np.std(x)"
   ]
  },
  {
   "cell_type": "code",
   "execution_count": 96,
   "metadata": {},
   "outputs": [
    {
     "name": "stdout",
     "output_type": "stream",
     "text": [
      "Explained variation per principal component: [0.44272026 0.18971182]\n"
     ]
    }
   ],
   "source": [
    "feat_cols = ['feature'+str(i) for i in range(x.shape[1])]\n",
    "normalised_breast = pd.DataFrame(x,columns=feat_cols)\n",
    "pca_breast = PCA(n_components=2)\n",
    "principalComponents_breast = pca_breast.fit_transform(x)\n",
    "principal_breast_Df = pd.DataFrame(data = principalComponents_breast\n",
    "             , columns = ['pc1', 'pc2'])\n",
    "print('Explained variation per principal component: {}'.format(pca_breast.explained_variance_ratio_))"
   ]
  },
  {
   "cell_type": "code",
   "execution_count": 113,
   "metadata": {},
   "outputs": [],
   "source": [
    "principal_breast_Df['diagnosis'] = df['diagnosis']"
   ]
  },
  {
   "cell_type": "code",
   "execution_count": 129,
   "metadata": {
    "scrolled": true
   },
   "outputs": [
    {
     "ename": "TypeError",
     "evalue": "'NoneType' object is not callable",
     "output_type": "error",
     "traceback": [
      "\u001b[0;31m---------------------------------------------------------------------------\u001b[0m",
      "\u001b[0;31mTypeError\u001b[0m                                 Traceback (most recent call last)",
      "\u001b[0;32m<ipython-input-129-534976feacf2>\u001b[0m in \u001b[0;36m<module>\u001b[0;34m()\u001b[0m\n\u001b[1;32m     17\u001b[0m     \u001b[0mx\u001b[0m\u001b[0;34m=\u001b[0m\u001b[0mprincipal_breast_Df\u001b[0m\u001b[0;34m[\u001b[0m\u001b[0;34m'pc1'\u001b[0m\u001b[0;34m]\u001b[0m\u001b[0;34m,\u001b[0m\u001b[0;34m\u001b[0m\u001b[0;34m\u001b[0m\u001b[0m\n\u001b[1;32m     18\u001b[0m     \u001b[0my\u001b[0m\u001b[0;34m=\u001b[0m\u001b[0mprincipal_breast_Df\u001b[0m\u001b[0;34m[\u001b[0m\u001b[0;34m'pc2'\u001b[0m\u001b[0;34m]\u001b[0m\u001b[0;34m,\u001b[0m\u001b[0;34m\u001b[0m\u001b[0;34m\u001b[0m\u001b[0m\n\u001b[0;32m---> 19\u001b[0;31m     \u001b[0mname\u001b[0m\u001b[0;34m=\u001b[0m\u001b[0;34m\"Malignant\"\u001b[0m\u001b[0;34m\u001b[0m\u001b[0;34m\u001b[0m\u001b[0m\n\u001b[0m\u001b[1;32m     20\u001b[0m ))\n\u001b[1;32m     21\u001b[0m \u001b[0;34m\u001b[0m\u001b[0m\n",
      "\u001b[0;31mTypeError\u001b[0m: 'NoneType' object is not callable"
     ]
    }
   ],
   "source": [
    "from plotly import graph_objs as go\n",
    "\n",
    "colorsIdx = {'M': 'red', 'B': 'blue'}\n",
    "cols      = principal_breast_Df['diagnosis'].map(colorsIdx)\n",
    "\n",
    "data = [\n",
    "    go.Scatter(\n",
    "    x=principal_breast_Df['pc1'], \n",
    "    y=principal_breast_Df['pc2'], \n",
    "    mode='markers', marker=dict(color = cols))\n",
    "]\n",
    "\n",
    "layout = go.Layout(width = 700, height = 700, showlegend=True)\n",
    "\n",
    "fig = go.Figure(data=data, layout=layout) # Creates the figure object for plotly \n",
    "fig.add_trace(go.Scatter(\n",
    "    x=principal_breast_Df['pc1'], \n",
    "    y=principal_breast_Df['pc2'], \n",
    "    name=\"Malignant\"\n",
    "))\n",
    "\n",
    "fig.add_trace(go.Scatter(\n",
    "    x=principal_breast_Df['pc1'], \n",
    "    y=principal_breast_Df['pc2'], \n",
    "    name=\"Benign\"\n",
    "))\n",
    "fig.update_layout(showlegend=True)\n",
    "py.iplot(fig, filename='labelled-heatmap')\n",
    "\n"
   ]
  },
  {
   "cell_type": "code",
   "execution_count": null,
   "metadata": {},
   "outputs": [],
   "source": []
  }
 ],
 "metadata": {
  "kernelspec": {
   "display_name": "Python 3",
   "language": "python",
   "name": "python3"
  },
  "language_info": {
   "codemirror_mode": {
    "name": "ipython",
    "version": 3
   },
   "file_extension": ".py",
   "mimetype": "text/x-python",
   "name": "python",
   "nbconvert_exporter": "python",
   "pygments_lexer": "ipython3",
   "version": "3.6.8"
  }
 },
 "nbformat": 4,
 "nbformat_minor": 2
}
